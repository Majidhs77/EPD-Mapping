{
  "cells": [
    {
      "cell_type": "code",
      "execution_count": 3,
      "metadata": {
        "colab": {
          "base_uri": "https://localhost:8080/"
        },
        "id": "cuhNlDKzKiWI",
        "outputId": "13ed5091-ed67-41d2-8262-6770e563bbfe"
      },
      "outputs": [],
      "source": [
        "import pandas as pd\n",
        "import plotly.express as px\n",
        "import geopandas as gpd\n",
        "import json\n",
        "import requests\n",
        "from requests.auth import HTTPBasicAuth\n",
        "from requests.structures import CaseInsensitiveDict\n",
        "import numpy as np\n",
        "from shapely.geometry import Point\n",
        "import matplotlib.pyplot as plt\n",
        "import folium\n",
        "import seaborn as sns"
      ]
    },
    {
      "cell_type": "code",
      "execution_count": 4,
      "metadata": {
        "id": "v35kbdkJ7zPp"
      },
      "outputs": [],
      "source": [
        "from IPython.core.display import JSON\n",
        "api_key= \"api-ui.cqd.io\"\n",
        "base_url = \"https://etl-api.cqd.io\""
      ]
    },
    {
      "cell_type": "code",
      "execution_count": null,
      "metadata": {
        "colab": {
          "base_uri": "https://localhost:8080/",
          "height": 35
        },
        "id": "SgDQwuzMKbxK",
        "outputId": "d09bb715-83e1-4c27-f81b-08839b3b5799"
      },
      "outputs": [],
      "source": [
        "\n",
        "\n",
        "#url = \"https://etl-api.cqd.io/api/rest-auth/login\"\n",
        "\n",
        "#headers = CaseInsensitiveDict()\n",
        "#headers[\"accept\"] = \"application/json\"\n",
        "#headers[\"Content-Type\"] = \"application/json\"\n",
        "\n",
        "#data = \"\"\"\n",
        "#{\n",
        "#  \"username\": \"\",\n",
        "#  \"password\": \"\"\n",
        "#}\n",
        "#\"\"\"\n",
        "\n",
        "\n",
        "#resp = requests.post(url, headers=headers, data=data)\n",
        "\n",
        "#get_key = resp.json()\n",
        "#key = get_key['key']\n"
      ]
    },
    {
      "cell_type": "code",
      "execution_count": null,
      "metadata": {
        "id": "s_5v1FrNRoAm"
      },
      "outputs": [],
      "source": [
        "\n",
        "##estimate_total_epds = 40000\n",
        "##max_number_listed_per_page = 250\n",
        "#num_iters = np.floor(estimate_total_epds/max_number_listed_per_page)\n"
      ]
    },
    {
      "cell_type": "code",
      "execution_count": null,
      "metadata": {
        "colab": {
          "base_uri": "https://localhost:8080/"
        },
        "id": "m2fT4hqzmQP6",
        "outputId": "f8a031fb-056d-4b87-f639-fe9e0a72f258"
      },
      "outputs": [],
      "source": [
        "# # target_lats = []\n",
        "# # target_lons = []\n",
        "# # gwps = []\n",
        "# # name = []\n",
        "# # original_ec3_link = []\n",
        "# # description = []\n",
        "# # display_name = []\n",
        "# # lightweight = []\n",
        "\n",
        "# for j in range(0,int(num_iters)):\n",
        "#   page_num = j+1\n",
        "#   url = \"https://etl-api.cqd.io/api/epds?page_number=\" + str(page_num) + \"&page_size=250\"\n",
        "#   headers = CaseInsensitiveDict()\n",
        "#   headers[\"accept\"] = \"application/json\"\n",
        "#   headers[\"Authorization\"] = \"Bearer 3922791549ad014a4a8a208118f88b1f8987dfce\"\n",
        "#   resp = requests.get(url, headers=headers)\n",
        "\n",
        "#   print(resp.status_code)\n",
        "#   print('i am on iteration # ' + str(page_num) + ' out of' + str(int(num_iters)))\n",
        "\n",
        "#   try:\n",
        "#     data_extract = resp.json()\n",
        "#   except:\n",
        "#     pass\n",
        "\n",
        "\n",
        "\n",
        "# # add whatever other descriptors you might want to extract from this loop... \n",
        "# # Luke specifically wanted some information on the global warming potentials, so you should extract\n",
        "# # (I did this for you) but think about other interesting information we can pull and display\n",
        "#   for i in data_extract:\n",
        "#       #if (i['category']['masterformat'] == \"03 30 00 Cast-in-Place Concrete\" and i['manufacturer']['country']=='US'):\n",
        "#       if (i['category']['masterformat'] == \"03 30 00 Cast-in-Place Concrete\"):\n",
        "\n",
        "#         try:\n",
        "#           target_lats.append(i['manufacturer']['latitude'])\n",
        "#         except:\n",
        "#           target_lats.append(np.nan)\n",
        "#         try:\n",
        "#           target_lons.append(i['manufacturer']['longitude'])\n",
        "#         except: \n",
        "#           target_lons.append(np.nan)\n",
        "#         try: \n",
        "#           temp_gwp = i['gwp']\n",
        "#         except:\n",
        "#           temp_gwp = np.nan\n",
        "#         gwps.append(temp_gwp)\n",
        "#         try:\n",
        "#           temp_name = i['name']\n",
        "#         except:\n",
        "#           temp_name = np.name\n",
        "#         name.append(temp_name)\n",
        "#         try:\n",
        "#           temp_ec3 = i['original_ec3_link']\n",
        "#         except:\n",
        "#           temp_ec3 = np.nan\n",
        "#         original_ec3_link.append(temp_ec3)\n",
        "#         try: \n",
        "#           display_name.append(i['category']['display_name'])\n",
        "#         except:\n",
        "#           display_name.append(np.nan)\n",
        "#         try:\n",
        "#           description.append(i['category']['description'])\n",
        "#         except:\n",
        "#           description.append(np.nan)\n",
        "#         try: \n",
        "#           temp_lightweight = i['lightweight']\n",
        "#         except:\n",
        "#           temp_lightweight = np.nan\n",
        "#         lightweight.append(temp_lightweight)\n",
        "\n",
        "\n",
        "        \n",
        "        \n",
        "\n",
        "\n",
        "\n",
        "# # from here you need to make one dataframe, i.e. pd.DataFrame({lons:target_lons, lats:target_lats....}) etc\n",
        "# # Then convert to geopandas dataframe"
      ]
    },
    {
      "cell_type": "markdown",
      "metadata": {
        "id": "HXkY6RZG3APL"
      },
      "source": []
    },
    {
      "cell_type": "code",
      "execution_count": null,
      "metadata": {
        "colab": {
          "base_uri": "https://localhost:8080/"
        },
        "id": "GwNSteUKxqrg",
        "outputId": "43ab2d0c-2690-41eb-e019-2468b03dd591"
      },
      "outputs": [],
      "source": [
        "# from google.colab import drive\n",
        "# drive.mount('/content/drive/')\n",
        "# import os\n",
        "# os.chdir(\"/content/drive/MyDrive/project_2\")"
      ]
    },
    {
      "cell_type": "code",
      "execution_count": null,
      "metadata": {
        "id": "W6QI5Dr7tJqw"
      },
      "outputs": [],
      "source": [
        "# df_data = pd.DataFrame({'name':name,'display_name':display_name,\n",
        "#                         'gwps':gwps,'lightweight':lightweight,\n",
        "#                         'description':description,'longitude':target_lons,\n",
        "#                         'latitude':target_lats,'original_ec3_link':original_ec3_link})\n",
        "# #df = pd.Dataframe(data, columns= ['name','display_name','gwps','lightweight','description','lons','lats','original_ec3_link'])\n",
        "# #gdf = geopandas.GeoDataFrame(df, geometry=geopandas.points_from_xy(df.lons,df.lants))\n",
        "# #df.to_csv(\"/content/drive/MyDrive/Project_2\"+ 'building_transparency', index=False)\n",
        "# df_data.to_csv('ec3_export.csv')"
      ]
    },
    {
      "cell_type": "code",
      "execution_count": null,
      "metadata": {
        "colab": {
          "base_uri": "https://localhost:8080/"
        },
        "id": "02zuSgoAvNdt",
        "outputId": "743fe104-2536-4e74-a571-c6b3e28eda53"
      },
      "outputs": [],
      "source": [
        "ec3_df = pd.read_csv(\"ec3_export.csv\")\n",
        "print(ec3_df)"
      ]
    },
    {
      "cell_type": "code",
      "execution_count": null,
      "metadata": {
        "colab": {
          "base_uri": "https://localhost:8080/"
        },
        "id": "wI30Pu6k500S",
        "outputId": "b139cb94-e0f8-4aa4-fa40-11c7172058e1"
      },
      "outputs": [],
      "source": [
        "list(ec3_df.columns)"
      ]
    },
    {
      "cell_type": "code",
      "execution_count": null,
      "metadata": {
        "id": "A5nIvS1zAWXT"
      },
      "outputs": [],
      "source": [
        "geometry = [Point(xy) for xy in zip(ec3_df['longitude'], ec3_df['latitude'])]\n",
        "ec3_gdf = GeoDataFrame(ec3_df, geometry=geometry)   "
      ]
    },
    {
      "cell_type": "code",
      "execution_count": null,
      "metadata": {
        "colab": {
          "base_uri": "https://localhost:8080/"
        },
        "id": "131JkRRxA4rs",
        "outputId": "ebaca5ec-dbaf-4f37-e063-ebae5eafd3a4"
      },
      "outputs": [],
      "source": [
        "print(ec3_gdf.head())\n"
      ]
    },
    {
      "cell_type": "code",
      "execution_count": null,
      "metadata": {
        "id": "o6NYk1FA8GNo"
      },
      "outputs": [],
      "source": [
        "ec3_gdf=ec3_gdf.dropna(subset=['longitude'])\n",
        "\n",
        "ec3_gdf=ec3_gdf.dropna(subset=['latitude'])"
      ]
    },
    {
      "cell_type": "code",
      "execution_count": null,
      "metadata": {
        "colab": {
          "base_uri": "https://localhost:8080/",
          "height": 679
        },
        "id": "AXhiFhkWQLMN",
        "outputId": "46714854-4b54-4dc2-884b-c136f718a44b"
      },
      "outputs": [],
      "source": [
        "m = folium.Map(location=[20,0], tiles=\"OpenStreetMap\", zoom_start=3)\n",
        "for i in range(0,len(ec3_gdf)):\n",
        "   folium.Marker(\n",
        "      location=[ec3_gdf.iloc[i]['latitude'], ec3_gdf.iloc[i]['longitude']],\n",
        "      popup=ec3_gdf.iloc[i]['name'],\n",
        "   ).add_to(m)\n",
        "m"
      ]
    }
  ],
  "metadata": {
    "colab": {
      "collapsed_sections": [],
      "name": "Deliverable 3.ipynb",
      "provenance": []
    },
    "kernelspec": {
      "display_name": "Python 3.5.6",
      "language": "python",
      "name": "python3"
    },
    "language_info": {
      "codemirror_mode": {
        "name": "ipython",
        "version": 3
      },
      "file_extension": ".py",
      "mimetype": "text/x-python",
      "name": "python",
      "nbconvert_exporter": "python",
      "pygments_lexer": "ipython3",
      "version": "3.7.13"
    },
    "vscode": {
      "interpreter": {
        "hash": "c19ba46e152a701bc7cf9713427fc0939fd843d5055c43eece9aaa421edc3d69"
      }
    }
  },
  "nbformat": 4,
  "nbformat_minor": 0
}
